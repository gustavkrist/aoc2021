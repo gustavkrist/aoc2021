{
 "cells": [
  {
   "cell_type": "code",
   "execution_count": 69,
   "id": "30d80073",
   "metadata": {
    "ExecuteTime": {
     "end_time": "2021-12-20T10:07:17.520787Z",
     "start_time": "2021-12-20T10:07:17.515267Z"
    }
   },
   "outputs": [],
   "source": [
    "import numpy as np\n",
    "from collections import Counter"
   ]
  },
  {
   "cell_type": "code",
   "execution_count": 2,
   "id": "555c8082",
   "metadata": {
    "ExecuteTime": {
     "end_time": "2021-12-20T09:43:22.579072Z",
     "start_time": "2021-12-20T09:43:22.575495Z"
    }
   },
   "outputs": [],
   "source": [
    "scanners = []\n",
    "with open('sample.txt') as f:\n",
    "        lines = list(map(lambda x: x.split('\\n'), f.read().split('\\n\\n')))\n",
    "    for line in lines:\n",
    "        line.pop(0)\n",
    "        intarr = [list(map(int, el.split(','))) for el in line]\n",
    "        scanners.append(np.array(intarr))"
   ]
  },
  {
   "cell_type": "code",
   "execution_count": 3,
   "id": "d4a9c11a",
   "metadata": {
    "ExecuteTime": {
     "end_time": "2021-12-20T09:43:22.581332Z",
     "start_time": "2021-12-20T09:43:22.579877Z"
    }
   },
   "outputs": [],
   "source": [
    "base = scanners[0]\n",
    "scanners = scanners[1:]"
   ]
  },
  {
   "cell_type": "code",
   "execution_count": 4,
   "id": "8a003fd4",
   "metadata": {
    "ExecuteTime": {
     "end_time": "2021-12-20T09:43:22.585504Z",
     "start_time": "2021-12-20T09:43:22.582835Z"
    }
   },
   "outputs": [],
   "source": [
    "x_perms = [[0, 1, 2], [0, 2, 1], [1, 0, 2], [1, 2, 0], [2, 1, 0], [2, 0, 1]]\n",
    "yz_perms = [[1,1,1], [1,-1,1], [1,1,-1], [1,-1,-1], [-1,1,1], [-1,-1,1], [-1,1,-1], [-1,-1,-1]]"
   ]
  },
  {
   "cell_type": "code",
   "execution_count": 5,
   "id": "04368e0b",
   "metadata": {
    "ExecuteTime": {
     "end_time": "2021-12-20T09:43:22.683829Z",
     "start_time": "2021-12-20T09:43:22.678151Z"
    }
   },
   "outputs": [],
   "source": [
    "scanner_perms = []\n",
    "for scanner in scanners:\n",
    "    perms = []\n",
    "    for axes in x_perms:\n",
    "        for multi in yz_perms:\n",
    "            perms.append(np.multiply(scanner[:, axes], multi))\n",
    "    scanner_perms.append(perms)"
   ]
  },
  {
   "cell_type": "code",
   "execution_count": 12,
   "id": "21805e49",
   "metadata": {
    "ExecuteTime": {
     "end_time": "2021-12-20T09:44:18.626280Z",
     "start_time": "2021-12-20T09:44:18.620548Z"
    }
   },
   "outputs": [],
   "source": [
    "scan1 = scanners[0]"
   ]
  },
  {
   "cell_type": "code",
   "execution_count": 239,
   "id": "381769a6",
   "metadata": {
    "ExecuteTime": {
     "end_time": "2021-12-20T11:11:27.396851Z",
     "start_time": "2021-12-20T11:11:27.391622Z"
    }
   },
   "outputs": [],
   "source": [
    "scan1_dists = []\n",
    "scan1_dist_done = []"
   ]
  },
  {
   "cell_type": "code",
   "execution_count": 240,
   "id": "739f3fe0",
   "metadata": {
    "ExecuteTime": {
     "end_time": "2021-12-20T11:11:27.566638Z",
     "start_time": "2021-12-20T11:11:27.545557Z"
    }
   },
   "outputs": [],
   "source": [
    "for i, point1 in enumerate(scan1):\n",
    "    for j, point2 in enumerate(scan1):\n",
    "        if sum(point1) != sum(point2) and {i, j} not in scan1_dist_done:\n",
    "            scan1_dists.append((np.linalg.norm(point1 - point2), i, j))\n",
    "            scan1_dist_done.append({i, j})"
   ]
  },
  {
   "cell_type": "code",
   "execution_count": 241,
   "id": "93cd7bed",
   "metadata": {
    "ExecuteTime": {
     "end_time": "2021-12-20T11:11:27.718553Z",
     "start_time": "2021-12-20T11:11:27.697738Z"
    }
   },
   "outputs": [],
   "source": [
    "base_dists = []\n",
    "base_dist_done = []\n",
    "for i, point1 in enumerate(base):\n",
    "    for j, point2 in enumerate(base):\n",
    "        if sum(point1) != sum(point2) and {i, j} not in base_dist_done:\n",
    "            base_dists.append((np.linalg.norm(point1 - point2), i, j))\n",
    "            base_dist_done.append({i, j})"
   ]
  },
  {
   "cell_type": "code",
   "execution_count": 242,
   "id": "dedfacc0",
   "metadata": {
    "ExecuteTime": {
     "end_time": "2021-12-20T11:11:27.856466Z",
     "start_time": "2021-12-20T11:11:27.851040Z"
    }
   },
   "outputs": [],
   "source": [
    "scan1_dist_dict = {d: (i, j) for d, i, j in scan1_dists}\n",
    "base_dist_dict = {d: (i, j) for d, i, j in base_dists}"
   ]
  },
  {
   "cell_type": "code",
   "execution_count": 306,
   "id": "e96db2e6",
   "metadata": {
    "ExecuteTime": {
     "end_time": "2021-12-20T11:34:14.684335Z",
     "start_time": "2021-12-20T11:34:14.674893Z"
    }
   },
   "outputs": [
    {
     "data": {
      "text/plain": [
       "66"
      ]
     },
     "execution_count": 306,
     "metadata": {},
     "output_type": "execute_result"
    }
   ],
   "source": [
    "common_dists = set(scan1_dist_dict.keys()).intersection(base_dist_dict.keys())\n",
    "len(common_dists)"
   ]
  },
  {
   "cell_type": "code",
   "execution_count": 244,
   "id": "0b32f099",
   "metadata": {
    "ExecuteTime": {
     "end_time": "2021-12-20T11:11:28.159047Z",
     "start_time": "2021-12-20T11:11:28.154221Z"
    }
   },
   "outputs": [],
   "source": [
    "translation = {}\n",
    "for d in common_dists:\n",
    "    translation[base_dist_dict[d]] = scan1_dist_dict[d]"
   ]
  },
  {
   "cell_type": "code",
   "execution_count": 314,
   "id": "891cc3c0",
   "metadata": {
    "ExecuteTime": {
     "end_time": "2021-12-20T11:50:53.124458Z",
     "start_time": "2021-12-20T11:50:53.112292Z"
    }
   },
   "outputs": [
    {
     "data": {
      "text/plain": [
       "{2, 6, 8, 13, 15, 16, 18, 19, 21, 22, 23, 24}"
      ]
     },
     "execution_count": 314,
     "metadata": {},
     "output_type": "execute_result"
    }
   ],
   "source": [
    "common_nodes = set()\n",
    "for n1, n2 in translation.keys():\n",
    "    common_nodes.add(n1); common_nodes.add(n2)\n",
    "set(chain(*[[n1, n2] for n1, n2 in translation.keys()]))"
   ]
  },
  {
   "cell_type": "code",
   "execution_count": 246,
   "id": "2ed9153c",
   "metadata": {
    "ExecuteTime": {
     "end_time": "2021-12-20T11:11:28.473677Z",
     "start_time": "2021-12-20T11:11:28.464940Z"
    }
   },
   "outputs": [],
   "source": [
    "trans = {i: Counter() for i in common_nodes}\n",
    "for (b1, b2), (s1, s2) in translation.items():\n",
    "    trans[b1][s1] += 1\n",
    "    trans[b1][s2] += 1\n",
    "    trans[b2][s1] += 1\n",
    "    trans[b2][s2] += 1"
   ]
  },
  {
   "cell_type": "code",
   "execution_count": 247,
   "id": "6424b47e",
   "metadata": {
    "ExecuteTime": {
     "end_time": "2021-12-20T11:11:28.623402Z",
     "start_time": "2021-12-20T11:11:28.617927Z"
    }
   },
   "outputs": [],
   "source": [
    "final_trans = {}\n",
    "for i, dic in trans.items():\n",
    "    final_trans[i] = max(list(dic.items()), key=lambda x: x[1])[0]"
   ]
  },
  {
   "cell_type": "code",
   "execution_count": 248,
   "id": "028cdd08",
   "metadata": {
    "ExecuteTime": {
     "end_time": "2021-12-20T11:11:28.927846Z",
     "start_time": "2021-12-20T11:11:28.920886Z"
    }
   },
   "outputs": [
    {
     "data": {
      "text/plain": [
       "{0: 3,\n",
       " 1: 8,\n",
       " 3: 12,\n",
       " 4: 1,\n",
       " 5: 24,\n",
       " 6: 18,\n",
       " 7: 10,\n",
       " 9: 0,\n",
       " 12: 2,\n",
       " 14: 5,\n",
       " 19: 15,\n",
       " 24: 19}"
      ]
     },
     "execution_count": 248,
     "metadata": {},
     "output_type": "execute_result"
    }
   ],
   "source": [
    "final_trans"
   ]
  },
  {
   "cell_type": "code",
   "execution_count": 249,
   "id": "d4490cee",
   "metadata": {
    "ExecuteTime": {
     "end_time": "2021-12-20T11:11:29.194548Z",
     "start_time": "2021-12-20T11:11:29.189447Z"
    }
   },
   "outputs": [],
   "source": [
    "n1, n2 = list(final_trans.keys())[:2]"
   ]
  },
  {
   "cell_type": "code",
   "execution_count": 250,
   "id": "c394cec6",
   "metadata": {
    "ExecuteTime": {
     "end_time": "2021-12-20T11:11:29.690984Z",
     "start_time": "2021-12-20T11:11:29.685021Z"
    }
   },
   "outputs": [
    {
     "data": {
      "text/plain": [
       "array([ -124,    55, -1310])"
      ]
     },
     "execution_count": 250,
     "metadata": {},
     "output_type": "execute_result"
    }
   ],
   "source": [
    "base_diffs = base[n1] - base[n2]\n",
    "base_diffs"
   ]
  },
  {
   "cell_type": "code",
   "execution_count": 251,
   "id": "fc30bb60",
   "metadata": {
    "ExecuteTime": {
     "end_time": "2021-12-20T11:11:30.118421Z",
     "start_time": "2021-12-20T11:11:30.110291Z"
    }
   },
   "outputs": [
    {
     "data": {
      "text/plain": [
       "array([ -124,    55, -1310])"
      ]
     },
     "execution_count": 251,
     "metadata": {},
     "output_type": "execute_result"
    }
   ],
   "source": [
    "scan_diffs = scan1[final_trans[n1]] - scan1[final_trans[n2]]\n",
    "scan_diffs"
   ]
  },
  {
   "cell_type": "code",
   "execution_count": 252,
   "id": "16bdcb36",
   "metadata": {
    "ExecuteTime": {
     "end_time": "2021-12-20T11:11:31.460670Z",
     "start_time": "2021-12-20T11:11:31.450998Z"
    }
   },
   "outputs": [
    {
     "data": {
      "text/plain": [
       "array([False, False, False])"
      ]
     },
     "execution_count": 252,
     "metadata": {},
     "output_type": "execute_result"
    }
   ],
   "source": [
    "abs(base_diffs) - abs(scan_diffs) > 0"
   ]
  },
  {
   "cell_type": "code",
   "execution_count": 253,
   "id": "c5747e07",
   "metadata": {
    "ExecuteTime": {
     "end_time": "2021-12-20T11:11:31.626478Z",
     "start_time": "2021-12-20T11:11:31.621289Z"
    }
   },
   "outputs": [],
   "source": [
    "minusmask = base_diffs + scan_diffs == 0\n",
    "rot = np.where(minusmask, 1, -1)"
   ]
  },
  {
   "cell_type": "code",
   "execution_count": 254,
   "id": "602e30b4",
   "metadata": {
    "ExecuteTime": {
     "end_time": "2021-12-20T11:11:32.734769Z",
     "start_time": "2021-12-20T11:11:32.731476Z"
    }
   },
   "outputs": [],
   "source": [
    "scan1_rot = np.multiply(scan1, rot)"
   ]
  },
  {
   "cell_type": "code",
   "execution_count": 256,
   "id": "0290f067",
   "metadata": {
    "ExecuteTime": {
     "end_time": "2021-12-20T11:11:46.204461Z",
     "start_time": "2021-12-20T11:11:46.195229Z"
    }
   },
   "outputs": [
    {
     "data": {
      "text/plain": [
       "array([0, 0, 0])"
      ]
     },
     "execution_count": 256,
     "metadata": {},
     "output_type": "execute_result"
    }
   ],
   "source": [
    "base[0] + scan1_rot[3]"
   ]
  },
  {
   "cell_type": "code",
   "execution_count": 257,
   "id": "81e7f8e4",
   "metadata": {
    "ExecuteTime": {
     "end_time": "2021-12-20T11:11:51.247251Z",
     "start_time": "2021-12-20T11:11:51.242243Z"
    }
   },
   "outputs": [],
   "source": [
    "scan4 = scanners[3]"
   ]
  },
  {
   "cell_type": "code",
   "execution_count": 273,
   "id": "01c80287",
   "metadata": {
    "ExecuteTime": {
     "end_time": "2021-12-20T11:13:02.092686Z",
     "start_time": "2021-12-20T11:13:02.066503Z"
    }
   },
   "outputs": [],
   "source": [
    "scan4_dists = []\n",
    "scan4_dist_done = []\n",
    "for i, point1 in enumerate(scan4):\n",
    "    for j, point2 in enumerate(scan4):\n",
    "        if sum(point1) != sum(point2) and {i, j} not in scan4_dist_done:\n",
    "            scan4_dists.append((np.linalg.norm(point1 - point2), i, j))\n",
    "            scan4_dist_done.append({i, j})"
   ]
  },
  {
   "cell_type": "code",
   "execution_count": 274,
   "id": "bdc8bab8",
   "metadata": {
    "ExecuteTime": {
     "end_time": "2021-12-20T11:13:02.339882Z",
     "start_time": "2021-12-20T11:13:02.325444Z"
    }
   },
   "outputs": [],
   "source": [
    "scan4_dist_dict = {d: (i, j) for d, i, j in scan4_dists}\n",
    "common_dists = set(scan1_dist_dict.keys()).intersection(set(scan4_dist_dict.keys()))\n",
    "translation = {}\n",
    "for d in common_dists:\n",
    "    translation[scan1_dist_dict[d]] = scan4_dist_dict[d]\n",
    "common_nodes = set()\n",
    "for n1, n2 in translation.keys():\n",
    "    common_nodes.add(n1); common_nodes.add(n2)\n",
    "trans = {i: Counter() for i in common_nodes}\n",
    "for (b1, b2), (s1, s2) in translation.items():\n",
    "    trans[b1][s1] += 1\n",
    "    trans[b1][s2] += 1\n",
    "    trans[b2][s1] += 1\n",
    "    trans[b2][s2] += 1\n",
    "final_trans = {}\n",
    "for i, dic in trans.items():\n",
    "    final_trans[i] = max(list(dic.items()), key=lambda x: x[1])[0]"
   ]
  },
  {
   "cell_type": "code",
   "execution_count": 275,
   "id": "445159bc",
   "metadata": {
    "ExecuteTime": {
     "end_time": "2021-12-20T11:13:02.722386Z",
     "start_time": "2021-12-20T11:13:02.718032Z"
    }
   },
   "outputs": [],
   "source": [
    "n1, n2 = list(final_trans.items())[0]"
   ]
  },
  {
   "cell_type": "code",
   "execution_count": 276,
   "id": "57615ac9",
   "metadata": {
    "ExecuteTime": {
     "end_time": "2021-12-20T11:13:03.141739Z",
     "start_time": "2021-12-20T11:13:03.135424Z"
    }
   },
   "outputs": [],
   "source": [
    "base_diffs = abs(scan1[2] - scan1[6])\n",
    "scan_diffs = abs(scan4[final_trans[2]] - scan4[final_trans[6]])"
   ]
  },
  {
   "cell_type": "code",
   "execution_count": 277,
   "id": "f74c8a32",
   "metadata": {
    "ExecuteTime": {
     "end_time": "2021-12-20T11:13:03.493137Z",
     "start_time": "2021-12-20T11:13:03.486073Z"
    }
   },
   "outputs": [
    {
     "data": {
      "text/plain": [
       "array([ 855, 1486,  485])"
      ]
     },
     "execution_count": 277,
     "metadata": {},
     "output_type": "execute_result"
    }
   ],
   "source": [
    "base_diffs"
   ]
  },
  {
   "cell_type": "code",
   "execution_count": 278,
   "id": "51a30bb5",
   "metadata": {
    "ExecuteTime": {
     "end_time": "2021-12-20T11:13:03.906886Z",
     "start_time": "2021-12-20T11:13:03.901397Z"
    }
   },
   "outputs": [
    {
     "data": {
      "text/plain": [
       "array([ 485,  855, 1486])"
      ]
     },
     "execution_count": 278,
     "metadata": {},
     "output_type": "execute_result"
    }
   ],
   "source": [
    "scan_diffs"
   ]
  },
  {
   "cell_type": "code",
   "execution_count": 279,
   "id": "3aa2e525",
   "metadata": {
    "ExecuteTime": {
     "end_time": "2021-12-20T11:13:05.041245Z",
     "start_time": "2021-12-20T11:13:05.035841Z"
    }
   },
   "outputs": [],
   "source": [
    "axis_perms = [[0,1,2],[0,2,1],[1,0,2],[1,2,0],[2,0,1],[2,1,0]]\n",
    "diff_perms = []\n",
    "for axes in axis_perms:\n",
    "    diff_perms.append(scan_diffs[axes])"
   ]
  },
  {
   "cell_type": "code",
   "execution_count": 301,
   "id": "b862ee5d",
   "metadata": {
    "ExecuteTime": {
     "end_time": "2021-12-20T11:18:57.553075Z",
     "start_time": "2021-12-20T11:18:57.546042Z"
    }
   },
   "outputs": [],
   "source": [
    "for i, perm in enumerate(diff_perms):\n",
    "    if np.allclose(perm, base_diffs):\n",
    "        scan_diffs = perm\n",
    "        scan4_rot = scan4[:, axis_perms[i]]"
   ]
  },
  {
   "cell_type": "code",
   "execution_count": 293,
   "id": "45debc05",
   "metadata": {
    "ExecuteTime": {
     "end_time": "2021-12-20T11:18:27.437796Z",
     "start_time": "2021-12-20T11:18:27.432096Z"
    }
   },
   "outputs": [
    {
     "data": {
      "text/plain": [
       "array([1710, 2972,  970])"
      ]
     },
     "execution_count": 293,
     "metadata": {},
     "output_type": "execute_result"
    }
   ],
   "source": [
    "base_diffs + scan_diffs"
   ]
  },
  {
   "cell_type": "code",
   "execution_count": 303,
   "id": "6605951b",
   "metadata": {
    "ExecuteTime": {
     "end_time": "2021-12-20T11:19:39.425554Z",
     "start_time": "2021-12-20T11:19:39.421547Z"
    }
   },
   "outputs": [],
   "source": [
    "minusmask = base_diffs + scan_diffs == 0\n",
    "rot = np.where(minusmask, 1, -1)\n",
    "scan_rot = np.multiply(scan4_rot, rot)"
   ]
  },
  {
   "cell_type": "code",
   "execution_count": 304,
   "id": "5d3e2e8f",
   "metadata": {
    "ExecuteTime": {
     "end_time": "2021-12-20T11:19:40.987493Z",
     "start_time": "2021-12-20T11:19:40.978509Z"
    }
   },
   "outputs": [
    {
     "data": {
      "text/plain": [
       "array([ 912, -319, -258])"
      ]
     },
     "execution_count": 304,
     "metadata": {},
     "output_type": "execute_result"
    }
   ],
   "source": [
    "base_diffs[2]-scan_rot[final_trans[2]]"
   ]
  },
  {
   "cell_type": "code",
   "execution_count": 296,
   "id": "78e14c8a",
   "metadata": {
    "ExecuteTime": {
     "end_time": "2021-12-20T11:18:29.937606Z",
     "start_time": "2021-12-20T11:18:29.931698Z"
    }
   },
   "outputs": [],
   "source": [
    "base_scan1 = np.array([68, -1246,   -43])"
   ]
  },
  {
   "cell_type": "code",
   "execution_count": 297,
   "id": "c6f7fe17",
   "metadata": {
    "ExecuteTime": {
     "end_time": "2021-12-20T11:18:34.827734Z",
     "start_time": "2021-12-20T11:18:34.822152Z"
    }
   },
   "outputs": [
    {
     "data": {
      "text/plain": [
       "array([ 855, 1486,  485])"
      ]
     },
     "execution_count": 297,
     "metadata": {},
     "output_type": "execute_result"
    }
   ],
   "source": [
    "base_diffs"
   ]
  },
  {
   "cell_type": "code",
   "execution_count": 213,
   "id": "03f10bac",
   "metadata": {
    "ExecuteTime": {
     "end_time": "2021-12-20T11:05:43.040995Z",
     "start_time": "2021-12-20T11:05:43.036673Z"
    }
   },
   "outputs": [],
   "source": [
    "scan1_based = scan1_rot + base_scan1"
   ]
  },
  {
   "cell_type": "code",
   "execution_count": 162,
   "id": "30ffa05c",
   "metadata": {
    "ExecuteTime": {
     "end_time": "2021-12-20T11:00:39.794398Z",
     "start_time": "2021-12-20T11:00:39.784697Z"
    }
   },
   "outputs": [
    {
     "data": {
      "text/plain": [
       "array([[ 404, -588, -901],\n",
       "       [ 528, -643,  409],\n",
       "       [-838,  591,  734],\n",
       "       [ 390, -675, -793],\n",
       "       [-537, -823, -458],\n",
       "       [-485, -357,  347],\n",
       "       [-345, -311,  381],\n",
       "       [-661, -816, -575],\n",
       "       [-876,  649,  763],\n",
       "       [-618, -824, -621],\n",
       "       [ 553,  345, -567],\n",
       "       [ 474,  580,  667],\n",
       "       [-447, -329,  318],\n",
       "       [-584,  868, -557],\n",
       "       [ 544, -627, -890],\n",
       "       [ 564,  392, -477],\n",
       "       [ 455,  729,  728],\n",
       "       [-892,  524,  684],\n",
       "       [-689,  845, -530],\n",
       "       [ 423, -701,  434],\n",
       "       [   7,  -33,  -71],\n",
       "       [ 630,  319, -379],\n",
       "       [ 443,  580,  662],\n",
       "       [-789,  900, -551],\n",
       "       [ 459, -707,  401]])"
      ]
     },
     "execution_count": 162,
     "metadata": {},
     "output_type": "execute_result"
    }
   ],
   "source": [
    "-618,-824,-621\n",
    "-537,-823,-458\n",
    "-447,-329,318\n",
    "404,-588,-901\n",
    "544,-627,-890\n",
    "528,-643,409\n",
    "-661,-816,-575\n",
    "390,-675,-793\n",
    "423,-701,434\n",
    "-345,-311,381\n",
    "459,-707,401\n",
    "-485,-357,347"
   ]
  },
  {
   "cell_type": "code",
   "execution_count": 217,
   "id": "afbd23ff",
   "metadata": {
    "ExecuteTime": {
     "end_time": "2021-12-20T11:07:57.315778Z",
     "start_time": "2021-12-20T11:07:57.306188Z"
    }
   },
   "outputs": [
    {
     "data": {
      "text/plain": [
       "array([[ -618,  -824,  -621],\n",
       "       [ -537,  -823,  -458],\n",
       "       [ -447,  -329,   318],\n",
       "       [  404,  -588,  -901],\n",
       "       [  -27, -1108,   -65],\n",
       "       [  544,  -627,  -890],\n",
       "       [  408, -1815,   803],\n",
       "       [ -499, -1607,  -770],\n",
       "       [  528,  -643,   409],\n",
       "       [ -601, -1648,  -643],\n",
       "       [ -661,  -816,  -575],\n",
       "       [  568, -2007,  -577],\n",
       "       [  390,  -675,  -793],\n",
       "       [  534, -1912,   768],\n",
       "       [  497, -1838,  -617],\n",
       "       [  423,  -701,   434],\n",
       "       [ -635, -1737,   486],\n",
       "       [  396, -1931,  -563],\n",
       "       [ -345,  -311,   381],\n",
       "       [  459,  -707,   401],\n",
       "       [ -518, -1681,  -600],\n",
       "       [  432, -2009,   850],\n",
       "       [ -739, -1745,   668],\n",
       "       [ -687, -1600,   576],\n",
       "       [ -485,  -357,   347]])"
      ]
     },
     "execution_count": 217,
     "metadata": {},
     "output_type": "execute_result"
    }
   ],
   "source": []
  },
  {
   "cell_type": "code",
   "execution_count": 218,
   "id": "66d105bd",
   "metadata": {
    "ExecuteTime": {
     "end_time": "2021-12-20T11:08:00.919951Z",
     "start_time": "2021-12-20T11:08:00.911242Z"
    }
   },
   "outputs": [
    {
     "data": {
      "text/plain": [
       "array([[ 404, -588, -901],\n",
       "       [ 528, -643,  409],\n",
       "       [-838,  591,  734],\n",
       "       [ 390, -675, -793],\n",
       "       [-537, -823, -458],\n",
       "       [-485, -357,  347],\n",
       "       [-345, -311,  381],\n",
       "       [-661, -816, -575],\n",
       "       [-876,  649,  763],\n",
       "       [-618, -824, -621],\n",
       "       [ 553,  345, -567],\n",
       "       [ 474,  580,  667],\n",
       "       [-447, -329,  318],\n",
       "       [-584,  868, -557],\n",
       "       [ 544, -627, -890],\n",
       "       [ 564,  392, -477],\n",
       "       [ 455,  729,  728],\n",
       "       [-892,  524,  684],\n",
       "       [-689,  845, -530],\n",
       "       [ 423, -701,  434],\n",
       "       [   7,  -33,  -71],\n",
       "       [ 630,  319, -379],\n",
       "       [ 443,  580,  662],\n",
       "       [-789,  900, -551],\n",
       "       [ 459, -707,  401]])"
      ]
     },
     "execution_count": 218,
     "metadata": {},
     "output_type": "execute_result"
    }
   ],
   "source": []
  },
  {
   "cell_type": "code",
   "execution_count": 316,
   "id": "e121e220",
   "metadata": {
    "ExecuteTime": {
     "end_time": "2021-12-20T12:12:21.532832Z",
     "start_time": "2021-12-20T12:12:21.523640Z"
    }
   },
   "outputs": [
    {
     "data": {
      "text/plain": [
       "True"
      ]
     },
     "execution_count": 316,
     "metadata": {},
     "output_type": "execute_result"
    }
   ],
   "source": [
    "0 in np.array([2,5,7,0])"
   ]
  },
  {
   "cell_type": "code",
   "execution_count": null,
   "id": "ee8744f2",
   "metadata": {},
   "outputs": [],
   "source": []
  }
 ],
 "metadata": {
  "hide_input": false,
  "interpreter": {
   "hash": "628a491adc1ef29b976c372b278a97bd812b84e97961120515aea1e2d77c011a"
  },
  "kernelspec": {
   "display_name": "Python 3.8.11 64-bit ('base': conda)",
   "language": "python",
   "name": "python3"
  },
  "language_info": {
   "codemirror_mode": {
    "name": "ipython",
    "version": 3
   },
   "file_extension": ".py",
   "mimetype": "text/x-python",
   "name": "python",
   "nbconvert_exporter": "python",
   "pygments_lexer": "ipython3",
   "version": "3.8.11"
  },
  "latex_envs": {
   "LaTeX_envs_menu_present": true,
   "autoclose": false,
   "autocomplete": true,
   "bibliofile": "biblio.bib",
   "cite_by": "apalike",
   "current_citInitial": 1,
   "eqLabelWithNumbers": true,
   "eqNumInitial": 1,
   "hotkeys": {
    "equation": "Ctrl-E",
    "itemize": "Ctrl-I"
   },
   "labels_anchors": false,
   "latex_user_defs": false,
   "report_style_numbering": false,
   "user_envs_cfg": false
  },
  "toc": {
   "base_numbering": 1,
   "nav_menu": {},
   "number_sections": true,
   "sideBar": true,
   "skip_h1_title": false,
   "title_cell": "Table of Contents",
   "title_sidebar": "Contents",
   "toc_cell": false,
   "toc_position": {},
   "toc_section_display": true,
   "toc_window_display": false
  }
 },
 "nbformat": 4,
 "nbformat_minor": 5
}
