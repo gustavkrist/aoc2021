{
 "cells": [
  {
   "cell_type": "code",
   "execution_count": 3,
   "id": "30d80073",
   "metadata": {
    "ExecuteTime": {
     "end_time": "2021-12-19T23:20:01.152000Z",
     "start_time": "2021-12-19T23:20:00.496211Z"
    }
   },
   "outputs": [],
   "source": [
    "import numpy as np"
   ]
  },
  {
   "cell_type": "code",
   "execution_count": 4,
   "id": "555c8082",
   "metadata": {
    "ExecuteTime": {
     "end_time": "2021-12-19T23:20:01.157138Z",
     "start_time": "2021-12-19T23:20:01.153528Z"
    }
   },
   "outputs": [],
   "source": [
    "scanners = []\n",
    "with open('sample.txt') as f:\n",
    "    lines = list(map(lambda x: x.split('\\n'), f.read().split('\\n\\n')))\n",
    "    for line in lines:\n",
    "        line.pop(0)\n",
    "        intarr = [list(map(int, el.split(','))) for el in line]\n",
    "        scanners.append(np.array(intarr))"
   ]
  },
  {
   "cell_type": "code",
   "execution_count": 5,
   "id": "d4a9c11a",
   "metadata": {
    "ExecuteTime": {
     "end_time": "2021-12-19T23:20:01.159329Z",
     "start_time": "2021-12-19T23:20:01.157819Z"
    }
   },
   "outputs": [],
   "source": [
    "base = scanners[0]\n",
    "scanners = scanners[1:]"
   ]
  },
  {
   "cell_type": "code",
   "execution_count": 7,
   "id": "8a003fd4",
   "metadata": {
    "ExecuteTime": {
     "end_time": "2021-12-19T23:20:05.073179Z",
     "start_time": "2021-12-19T23:20:05.064997Z"
    }
   },
   "outputs": [],
   "source": [
    "x_perms = [[0, 1, 2], [0, 2, 1], [1, 0, 2], [1, 2, 0], [2, 1, 0], [2, 0, 1]]\n",
    "yz_perms = [[1,1,1], [1,-1,1], [1,1,-1], [1,-1,-1], [-1,1,1], [-1,-1,1], [-1,1,-1], [-1,-1,-1]]"
   ]
  },
  {
   "cell_type": "code",
   "execution_count": 8,
   "id": "04368e0b",
   "metadata": {
    "ExecuteTime": {
     "end_time": "2021-12-19T23:20:06.314020Z",
     "start_time": "2021-12-19T23:20:06.301149Z"
    }
   },
   "outputs": [],
   "source": [
    "scanner_perms = []\n",
    "for scanner in scanners:\n",
    "    perms = []\n",
    "    for axes in x_perms:\n",
    "        for multi in yz_perms:\n",
    "            perms.append(np.multiply(scanner[:, axes], multi))\n",
    "    scanner_perms.append(perms)"
   ]
  },
  {
   "cell_type": "code",
   "execution_count": 9,
   "id": "5933e5c8",
   "metadata": {
    "ExecuteTime": {
     "end_time": "2021-12-19T23:20:07.729805Z",
     "start_time": "2021-12-19T23:20:07.724046Z"
    }
   },
   "outputs": [
    {
     "name": "stdout",
     "output_type": "stream",
     "text": [
      "4\n"
     ]
    }
   ],
   "source": [
    "print(len(scanner_perms))"
   ]
  },
  {
   "cell_type": "code",
   "execution_count": 10,
   "id": "4be4eb07",
   "metadata": {
    "ExecuteTime": {
     "end_time": "2021-12-19T23:20:08.454336Z",
     "start_time": "2021-12-19T23:20:08.448863Z"
    }
   },
   "outputs": [
    {
     "data": {
      "text/plain": [
       "(array([9]), array([0]))"
      ]
     },
     "execution_count": 10,
     "metadata": {},
     "output_type": "execute_result"
    }
   ],
   "source": [
    "np.where(base == -618)"
   ]
  },
  {
   "cell_type": "code",
   "execution_count": 9,
   "id": "e030c913",
   "metadata": {
    "ExecuteTime": {
     "end_time": "2021-12-19T23:14:44.434410Z",
     "start_time": "2021-12-19T23:14:44.417585Z"
    }
   },
   "outputs": [
    {
     "name": "stdout",
     "output_type": "stream",
     "text": [
      "(array([22]), array([1]))\n",
      "(array([22]), array([1]))\n",
      "(array([22]), array([1]))\n",
      "(array([22]), array([1]))\n",
      "(array([22]), array([2]))\n",
      "(array([22]), array([2]))\n",
      "(array([22]), array([2]))\n",
      "(array([22]), array([2]))\n",
      "(array([22]), array([0]))\n",
      "(array([22]), array([0]))\n",
      "(array([22]), array([0]))\n",
      "(array([22]), array([0]))\n",
      "(array([22]), array([0]))\n",
      "(array([22]), array([0]))\n",
      "(array([22]), array([0]))\n",
      "(array([22]), array([0]))\n",
      "(array([22]), array([1]))\n",
      "(array([22]), array([1]))\n",
      "(array([22]), array([1]))\n",
      "(array([22]), array([1]))\n",
      "(array([22]), array([2]))\n",
      "(array([22]), array([2]))\n",
      "(array([22]), array([2]))\n",
      "(array([22]), array([2]))\n"
     ]
    }
   ],
   "source": [
    "for scanperms in scanner_perms:\n",
    "    for perm in scanperms:\n",
    "        if sum([arr.shape[0] for arr in np.where(perm == 499)]):\n",
    "            print(np.where(perm == 499))"
   ]
  },
  {
   "cell_type": "code",
   "execution_count": 11,
   "id": "df5a0cd5",
   "metadata": {
    "ExecuteTime": {
     "end_time": "2021-12-19T23:20:17.687528Z",
     "start_time": "2021-12-19T23:20:17.679925Z"
    },
    "scrolled": true
   },
   "outputs": [
    {
     "data": {
      "text/plain": [
       "2"
      ]
     },
     "execution_count": 11,
     "metadata": {},
     "output_type": "execute_result"
    }
   ],
   "source": [
    "sum([arr.shape[0] for arr in np.where(base == -618)])"
   ]
  },
  {
   "cell_type": "code",
   "execution_count": 12,
   "id": "be6c995a",
   "metadata": {
    "ExecuteTime": {
     "end_time": "2021-12-19T23:20:19.135594Z",
     "start_time": "2021-12-19T23:20:19.112250Z"
    }
   },
   "outputs": [],
   "source": [
    "beacon_map = np.zeros((10000, 10000, 10000), int)"
   ]
  },
  {
   "cell_type": "code",
   "execution_count": 13,
   "id": "2fb32bdf",
   "metadata": {
    "ExecuteTime": {
     "end_time": "2021-12-19T23:20:21.254004Z",
     "start_time": "2021-12-19T23:20:21.249709Z"
    }
   },
   "outputs": [],
   "source": [
    "for coords in base:\n",
    "    x, y, z = coords\n",
    "    beacon_map[x, y, z] += 1"
   ]
  },
  {
   "cell_type": "code",
   "execution_count": null,
   "id": "871fdd45",
   "metadata": {
    "ExecuteTime": {
     "start_time": "2021-12-19T23:20:22.619Z"
    }
   },
   "outputs": [],
   "source": [
    "np.where(beacon_map == 1)"
   ]
  },
  {
   "cell_type": "code",
   "execution_count": 22,
   "id": "eeb294d3",
   "metadata": {
    "ExecuteTime": {
     "end_time": "2021-12-19T23:16:53.641656Z",
     "start_time": "2021-12-19T23:16:53.634425Z"
    }
   },
   "outputs": [
    {
     "ename": "SyntaxError",
     "evalue": "invalid syntax (2609663733.py, line 1)",
     "output_type": "error",
     "traceback": [
      "\u001b[0;36m  File \u001b[0;32m\"/var/folders/lw/2sp6g_zx0fq0c308qbr_b4bw0000gn/T/ipykernel_47357/2609663733.py\"\u001b[0;36m, line \u001b[0;32m1\u001b[0m\n\u001b[0;31m    beacon_map[*(0,0,0)]\u001b[0m\n\u001b[0m               ^\u001b[0m\n\u001b[0;31mSyntaxError\u001b[0m\u001b[0;31m:\u001b[0m invalid syntax\n"
     ]
    }
   ],
   "source": [
    "beacon_map[*(0,0,0)]"
   ]
  },
  {
   "cell_type": "code",
   "execution_count": 26,
   "id": "ea865f2b",
   "metadata": {
    "ExecuteTime": {
     "end_time": "2021-12-19T23:17:51.918688Z",
     "start_time": "2021-12-19T23:17:51.911782Z"
    }
   },
   "outputs": [],
   "source": [
    "x, y, z = base[0]"
   ]
  },
  {
   "cell_type": "code",
   "execution_count": 27,
   "id": "2500692a",
   "metadata": {
    "ExecuteTime": {
     "end_time": "2021-12-19T23:17:58.153604Z",
     "start_time": "2021-12-19T23:17:58.147067Z"
    }
   },
   "outputs": [
    {
     "name": "stdout",
     "output_type": "stream",
     "text": [
      "404 -588 -901\n"
     ]
    }
   ],
   "source": [
    "print(x, y, z)"
   ]
  },
  {
   "cell_type": "code",
   "execution_count": null,
   "id": "21805e49",
   "metadata": {},
   "outputs": [],
   "source": []
  },
  {
   "cell_type": "code",
   "execution_count": null,
   "id": "381769a6",
   "metadata": {},
   "outputs": [],
   "source": []
  }
 ],
 "metadata": {
  "hide_input": false,
  "kernelspec": {
   "display_name": "Python 3.8.11 64-bit ('base': conda)",
   "language": "python",
   "name": "python3811jvsc74a57bd0628a491adc1ef29b976c372b278a97bd812b84e97961120515aea1e2d77c011a"
  },
  "language_info": {
   "codemirror_mode": {
    "name": "ipython",
    "version": 3
   },
   "file_extension": ".py",
   "mimetype": "text/x-python",
   "name": "python",
   "nbconvert_exporter": "python",
   "pygments_lexer": "ipython3",
   "version": "3.8.11"
  },
  "latex_envs": {
   "LaTeX_envs_menu_present": true,
   "autoclose": false,
   "autocomplete": true,
   "bibliofile": "biblio.bib",
   "cite_by": "apalike",
   "current_citInitial": 1,
   "eqLabelWithNumbers": true,
   "eqNumInitial": 1,
   "hotkeys": {
    "equation": "Ctrl-E",
    "itemize": "Ctrl-I"
   },
   "labels_anchors": false,
   "latex_user_defs": false,
   "report_style_numbering": false,
   "user_envs_cfg": false
  },
  "toc": {
   "base_numbering": 1,
   "nav_menu": {},
   "number_sections": true,
   "sideBar": true,
   "skip_h1_title": false,
   "title_cell": "Table of Contents",
   "title_sidebar": "Contents",
   "toc_cell": false,
   "toc_position": {},
   "toc_section_display": true,
   "toc_window_display": false
  }
 },
 "nbformat": 4,
 "nbformat_minor": 5
}
